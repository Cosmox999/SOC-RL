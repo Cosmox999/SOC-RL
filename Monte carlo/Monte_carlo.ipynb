{
  "nbformat": 4,
  "nbformat_minor": 0,
  "metadata": {
    "colab": {
      "provenance": [],
      "gpuType": "T4",
      "authorship_tag": "ABX9TyMl7guL+UgduVsNW50XVFl4",
      "include_colab_link": true
    },
    "kernelspec": {
      "name": "python3",
      "display_name": "Python 3"
    },
    "language_info": {
      "name": "python"
    },
    "accelerator": "GPU"
  },
  "cells": [
    {
      "cell_type": "markdown",
      "metadata": {
        "id": "view-in-github",
        "colab_type": "text"
      },
      "source": [
        "<a href=\"https://colab.research.google.com/github/Cosmox999/SOC-RL/blob/main/Monte_carlo.ipynb\" target=\"_parent\"><img src=\"https://colab.research.google.com/assets/colab-badge.svg\" alt=\"Open In Colab\"/></a>"
      ]
    },
    {
      "cell_type": "code",
      "source": [
        "pip install numpy==1.23.5 gym==0.25.2"
      ],
      "metadata": {
        "colab": {
          "base_uri": "https://localhost:8080/",
          "height": 678
        },
        "id": "mO4_ETjqmPOn",
        "outputId": "f76c4f87-ded3-4c48-eaf1-3b98a2cfd6d8"
      },
      "execution_count": 1,
      "outputs": [
        {
          "output_type": "stream",
          "name": "stdout",
          "text": [
            "Collecting numpy==1.23.5\n",
            "  Downloading numpy-1.23.5-cp311-cp311-manylinux_2_17_x86_64.manylinux2014_x86_64.whl.metadata (2.3 kB)\n",
            "Requirement already satisfied: gym==0.25.2 in /usr/local/lib/python3.11/dist-packages (0.25.2)\n",
            "Requirement already satisfied: cloudpickle>=1.2.0 in /usr/local/lib/python3.11/dist-packages (from gym==0.25.2) (3.1.1)\n",
            "Requirement already satisfied: gym-notices>=0.0.4 in /usr/local/lib/python3.11/dist-packages (from gym==0.25.2) (0.0.8)\n",
            "Downloading numpy-1.23.5-cp311-cp311-manylinux_2_17_x86_64.manylinux2014_x86_64.whl (17.1 MB)\n",
            "\u001b[2K   \u001b[90m━━━━━━━━━━━━━━━━━━━━━━━━━━━━━━━━━━━━━━━━\u001b[0m \u001b[32m17.1/17.1 MB\u001b[0m \u001b[31m80.7 MB/s\u001b[0m eta \u001b[36m0:00:00\u001b[0m\n",
            "\u001b[?25hInstalling collected packages: numpy\n",
            "  Attempting uninstall: numpy\n",
            "    Found existing installation: numpy 2.0.2\n",
            "    Uninstalling numpy-2.0.2:\n",
            "      Successfully uninstalled numpy-2.0.2\n",
            "\u001b[31mERROR: pip's dependency resolver does not currently take into account all the packages that are installed. This behaviour is the source of the following dependency conflicts.\n",
            "tensorflow 2.18.0 requires numpy<2.1.0,>=1.26.0, but you have numpy 1.23.5 which is incompatible.\n",
            "xarray-einstats 0.9.0 requires numpy>=1.25, but you have numpy 1.23.5 which is incompatible.\n",
            "jax 0.5.2 requires numpy>=1.25, but you have numpy 1.23.5 which is incompatible.\n",
            "db-dtypes 1.4.3 requires numpy>=1.24.0, but you have numpy 1.23.5 which is incompatible.\n",
            "albumentations 2.0.8 requires numpy>=1.24.4, but you have numpy 1.23.5 which is incompatible.\n",
            "albucore 0.0.24 requires numpy>=1.24.4, but you have numpy 1.23.5 which is incompatible.\n",
            "jaxlib 0.5.1 requires numpy>=1.25, but you have numpy 1.23.5 which is incompatible.\n",
            "scikit-image 0.25.2 requires numpy>=1.24, but you have numpy 1.23.5 which is incompatible.\n",
            "blosc2 3.3.4 requires numpy>=1.26, but you have numpy 1.23.5 which is incompatible.\n",
            "bigframes 2.5.0 requires numpy>=1.24.0, but you have numpy 1.23.5 which is incompatible.\n",
            "imbalanced-learn 0.13.0 requires numpy<3,>=1.24.3, but you have numpy 1.23.5 which is incompatible.\n",
            "pymc 5.23.0 requires numpy>=1.25.0, but you have numpy 1.23.5 which is incompatible.\n",
            "xarray 2025.3.1 requires numpy>=1.24, but you have numpy 1.23.5 which is incompatible.\n",
            "thinc 8.3.6 requires numpy<3.0.0,>=2.0.0, but you have numpy 1.23.5 which is incompatible.\n",
            "chex 0.1.89 requires numpy>=1.24.1, but you have numpy 1.23.5 which is incompatible.\n",
            "treescope 0.1.9 requires numpy>=1.25.2, but you have numpy 1.23.5 which is incompatible.\u001b[0m\u001b[31m\n",
            "\u001b[0mSuccessfully installed numpy-1.23.5\n"
          ]
        },
        {
          "output_type": "display_data",
          "data": {
            "application/vnd.colab-display-data+json": {
              "pip_warning": {
                "packages": [
                  "numpy"
                ]
              },
              "id": "6aea611533fd494ea6c8dc932700326f"
            }
          },
          "metadata": {}
        }
      ]
    },
    {
      "cell_type": "code",
      "execution_count": 1,
      "metadata": {
        "colab": {
          "base_uri": "https://localhost:8080/",
          "height": 760
        },
        "id": "tF3dRPMQlv-A",
        "outputId": "83990eb7-e491-482d-98f5-3a8bb506af97"
      },
      "outputs": [
        {
          "output_type": "stream",
          "name": "stderr",
          "text": [
            "/usr/local/lib/python3.11/dist-packages/gym/core.py:317: DeprecationWarning: \u001b[33mWARN: Initializing wrapper in old step API which returns one bool instead of two. It is recommended to set `new_step_api=True` to use new step API. This will be the default behaviour in future.\u001b[0m\n",
            "  deprecation(\n",
            "/usr/local/lib/python3.11/dist-packages/gym/wrappers/step_api_compatibility.py:39: DeprecationWarning: \u001b[33mWARN: Initializing environment in old step API which returns one bool instead of two. It is recommended to set `new_step_api=True` to use new step API. This will be the default behaviour in future.\u001b[0m\n",
            "  deprecation(\n"
          ]
        },
        {
          "output_type": "stream",
          "name": "stdout",
          "text": [
            "Episode: 0, Reward: 0.0, Epsilon: 1.00\n",
            "Episode: 1000, Reward: 0.0, Epsilon: 0.37\n",
            "Episode: 2000, Reward: 1.0, Epsilon: 0.14\n",
            "Episode: 3000, Reward: 1.0, Epsilon: 0.05\n",
            "Episode: 4000, Reward: 1.0, Epsilon: 0.02\n",
            "Episode: 5000, Reward: 1.0, Epsilon: 0.01\n",
            "Episode: 6000, Reward: 1.0, Epsilon: 0.01\n",
            "Episode: 7000, Reward: 1.0, Epsilon: 0.01\n",
            "Episode: 8000, Reward: 1.0, Epsilon: 0.01\n",
            "Episode: 9000, Reward: 1.0, Epsilon: 0.01\n"
          ]
        },
        {
          "output_type": "display_data",
          "data": {
            "text/plain": [
              "<Figure size 1000x500 with 1 Axes>"
            ],
            "image/png": "[encoded data removed]"
          },
          "metadata": {}
        }
      ],
      "source": [
        "import gym\n",
        "import numpy as np\n",
        "import matplotlib.pyplot as plt\n",
        "from collections import defaultdict\n",
        "\n",
        "def generate_episode(env, policy, epsilon):\n",
        "    episode = []\n",
        "    state = env.reset()\n",
        "    if isinstance(state, tuple):  # Handle newer Gym versions\n",
        "        state = state[0]\n",
        "    done = False\n",
        "\n",
        "    while not done:\n",
        "        if np.random.random() < epsilon:\n",
        "            action = env.action_space.sample()\n",
        "        else:\n",
        "            action = policy[state]\n",
        "\n",
        "        result = env.step(action)\n",
        "        if len(result) == 4:  # Older Gym versions\n",
        "            next_state, reward, done, _ = result\n",
        "        else:  # Newer Gym versions\n",
        "            next_state, reward, terminated, truncated, _ = result\n",
        "            done = terminated or truncated\n",
        "\n",
        "        episode.append((state, action, reward))\n",
        "        state = next_state\n",
        "\n",
        "    return episode\n",
        "\n",
        "def train_monte_carlo(env, episodes=10000, gamma=0.99, epsilon=1.0, min_epsilon=0.01, decay=0.999):\n",
        "    # Initialize Q as numpy array instead of defaultdict\n",
        "    Q = np.zeros((env.observation_space.n, env.action_space.n))\n",
        "    N = np.zeros((env.observation_space.n, env.action_space.n))\n",
        "    policy = np.zeros(env.observation_space.n, dtype=int)\n",
        "    rewards = []\n",
        "\n",
        "    for episode in range(episodes):\n",
        "        # Generate episode\n",
        "        episode_data = generate_episode(env, policy, epsilon)\n",
        "        states, actions, ep_rewards = zip(*episode_data)\n",
        "        total_reward = sum(ep_rewards)\n",
        "        rewards.append(total_reward)\n",
        "\n",
        "        # Calculate returns and update Q\n",
        "        G = 0\n",
        "        visited = set()\n",
        "\n",
        "        for t in range(len(episode_data)-1, -1, -1):\n",
        "            state, action, reward = episode_data[t]\n",
        "            G = gamma * G + reward\n",
        "\n",
        "            # First-visit MC\n",
        "            if (state, action) not in visited:\n",
        "                visited.add((state, action))\n",
        "                N[state][action] += 1\n",
        "                Q[state][action] += (G - Q[state][action]) / N[state][action]\n",
        "                policy[state] = np.argmax(Q[state])\n",
        "\n",
        "        # Decay epsilon\n",
        "        epsilon = max(min_epsilon, epsilon * decay)\n",
        "\n",
        "        if episode % 1000 == 0:\n",
        "            print(f\"Episode: {episode}, Reward: {total_reward}, Epsilon: {epsilon:.2f}\")\n",
        "\n",
        "    return Q, policy, rewards\n",
        "\n",
        "def plot_rewards(rewards, title=\"Monte Carlo Rewards\"):\n",
        "    plt.figure(figsize=(10, 5))\n",
        "    plt.plot(rewards)\n",
        "    plt.title(title)\n",
        "    plt.xlabel(\"Episode\")\n",
        "    plt.ylabel(\"Total Reward\")\n",
        "    plt.savefig(\"monte_carlo_rewards.png\")\n",
        "    plt.show()\n",
        "\n",
        "if __name__ == \"__main__\":\n",
        "    # Create environment with new API\n",
        "    env = gym.make('FrozenLake-v1', is_slippery=False, render_mode='rgb_array')\n",
        "\n",
        "    # Train the agent\n",
        "    Q, policy, rewards = train_monte_carlo(env)\n",
        "    plot_rewards(rewards)\n",
        "\n",
        "    # Save results\n",
        "    np.save(\"monte_carlo_Q.npy\", Q)\n",
        "    np.save(\"monte_carlo_policy.npy\", policy)\n",
        "\n",
        "    # Record video\n",
        "    from gym.wrappers import RecordVideo\n",
        "    env.close()\n",
        "    env = gym.make('FrozenLake-v1', is_slippery=False, render_mode='rgb_array')\n",
        "    env = RecordVideo(env, \"videos\", name_prefix=\"monte_carlo\")\n",
        "\n",
        "    # Run one episode for recording\n",
        "    state = env.reset()\n",
        "    if isinstance(state, tuple):\n",
        "        state = state[0]\n",
        "    done = False\n",
        "\n",
        "    while not done:\n",
        "        action = policy[state]\n",
        "        result = env.step(action)\n",
        "        if len(result) == 4:\n",
        "            next_state, _, done, _ = result\n",
        "        else:\n",
        "            next_state, _, terminated, truncated, _ = result\n",
        "            done = terminated or truncated\n",
        "        state = next_state\n",
        "\n",
        "    env.close()"
      ]
    },
    {
      "cell_type": "code",
      "source": [],
      "metadata": {
        "id": "Y1Ex0lB6mDEr"
      },
      "execution_count": null,
      "outputs": []
    }
  ]
}
